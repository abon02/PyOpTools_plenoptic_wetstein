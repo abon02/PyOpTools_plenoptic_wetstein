{
 "cells": [
  {
   "cell_type": "code",
   "execution_count": 1,
   "id": "cad6a915",
   "metadata": {
    "scrolled": false
   },
   "outputs": [
    {
     "data": {
      "application/vnd.jupyter.widget-view+json": {
       "model_id": "660e32fe365d41a0b29c6e2399591c95",
       "version_major": 2,
       "version_minor": 0
      },
      "text/plain": [
       "Renderer(camera=OrthographicCamera(bottom=-200.0, children=(DirectionalLight(intensity=0.7, position=(0.0, 100…"
      ]
     },
     "metadata": {},
     "output_type": "display_data"
    },
    {
     "data": {
      "image/png": "[encoded data removed]",
      "text/plain": [
       "<Figure size 640x480 with 1 Axes>"
      ]
     },
     "metadata": {},
     "output_type": "display_data"
    }
   ],
   "source": [
    "from pyoptools.all import *\n",
    "from math import sqrt, pi, radians,cos, sin\n",
    "import random\n",
    "import pandas as pd\n",
    "import numpy as np\n",
    "\n",
    "\n",
    "lens_radius = 25\n",
    "microlens_radius = 2.7\n",
    "CCD = CCD(size=(45, 45))\n",
    "L1 = SphericalLens(radius=lens_radius, curvature_s1=1./100., curvature_s2=-1./100., thickness=10, material=material.schott[\"N-BK7\"])\n",
    "\n",
    "#microlens = SphericalLens(radius=microlens_radius, curvature_s1=1./100., curvature_s2=-1./100., thickness=1.2, material=material.schott[\"N-BK7\"])\n",
    "MShape = Circular(radius=microlens_radius)\n",
    "microlens = SphericalLens(radius=microlens_radius, curvature_s1=1./100., curvature_s2=-1./100., thickness=0.5, material=material.schott[\"N-BK7\"])\n",
    "\n",
    "\n",
    "num_xmicrolens = 8\n",
    "num_ymicrolens = 8\n",
    "microlens_pitch = microlens_radius * 2\n",
    "array_z_distance = 95\n",
    "CCD_z = 98\n",
    "\n",
    "\n",
    "microlens_locations = []\n",
    "for i in range(num_xmicrolens):\n",
    "    for j in range(num_ymicrolens):\n",
    "        x_pos = i * microlens_pitch \n",
    "        y_pos = j * microlens_pitch\n",
    "        \n",
    "        microlens_location = (x_pos - 16, y_pos - 20, array_z_distance)\n",
    "        microlens_locations.append(microlens_location)\n",
    "\n",
    "\n",
    "lens_location = (0, 0, 0)\n",
    "CCD_location = (0, 0, CCD_z)\n",
    "\n",
    "complist = [(L1, lens_location, (0, 0, 0)), (CCD, CCD_location, (0, 0, 0))]\n",
    "#OA = Ray(pos=(0,0,0), dir=(0,0,1), intensity=100, wavelength=.550)\n",
    "\n",
    "for m in microlens_locations:\n",
    "    complist.append((microlens, m, (0, 0, 0)))\n",
    "    \n",
    "S = System(complist=complist, n=1)\n",
    "    \n",
    "num_ps = 100\n",
    "#source_wavelength = 0.550\n",
    "num_rays = 2\n",
    "\n",
    "source_z_distance = -115\n",
    "\n",
    "\n",
    "R = [] \n",
    "for y in np.linspace(-20, 20, 5):\n",
    "    for i in range(-10, 11, 5):\n",
    "        \n",
    "        angle_degrees = i\n",
    "        angle_radians = radians(angle_degrees)\n",
    "    \n",
    "        dir_y = sin(angle_radians) \n",
    "        dir_z = cos(angle_radians)\n",
    "        \n",
    "        if i == -10:\n",
    "            s_wavelength = 0.450\n",
    "        elif i == -5:\n",
    "            s_wavelength = 0.480\n",
    "        elif i == 0:\n",
    "            s_wavelength = 0.550\n",
    "        elif i == 5:\n",
    "            s_wavelength = 0.580\n",
    "        elif i == 10:\n",
    "            s_wavelength = 0.650\n",
    "        \n",
    "        ray = Ray(pos=(0, y, source_z_distance), dir=(0, dir_y, dir_z), wavelength=s_wavelength)\n",
    "        R.append(ray)\n",
    "\n",
    "\n",
    "#f = microlens.paraxial_constants()\n",
    "#print(f) \n",
    "\n",
    "S.ray_add(R)\n",
    "#S.ray_add(OA)\n",
    "S.propagate()\n",
    "'''\n",
    "path = '/Users/screa/Documents/IAState/FacultyMentor/Switchillator/Plenoptic/CMLAL.xlsx'\n",
    "xlsx_name = 'CMLAL.xlsx'\n",
    "\n",
    "data = []\n",
    "for CHL,R in CCD.hit_list:\n",
    "    data.append(CHL)\n",
    "    #print(CHL)\n",
    "\n",
    "df = pd.DataFrame(data, columns=['x', 'y', 'z'])\n",
    "df.to_excel(excel_writer=path, sheet_name=xlsx_name, index=False)\n",
    "'''\n",
    "\n",
    "spot_diagram_c(CCD)\n",
    "Plot3D(S, center=(0, 0, 200), size=(450, 200), scale=2, rot=[(0, -pi/2, 0), (pi/20, -pi/10, 0)])\n"
   ]
  },
  {
   "cell_type": "code",
   "execution_count": null,
   "id": "9a63cc54",
   "metadata": {},
   "outputs": [],
   "source": []
  },
  {
   "cell_type": "code",
   "execution_count": null,
   "id": "7aebda75",
   "metadata": {},
   "outputs": [],
   "source": []
  }
 ],
 "metadata": {
  "kernelspec": {
   "display_name": "Python 3 (ipykernel)",
   "language": "python",
   "name": "python3"
  },
  "language_info": {
   "codemirror_mode": {
    "name": "ipython",
    "version": 3
   },
   "file_extension": ".py",
   "mimetype": "text/x-python",
   "name": "python",
   "nbconvert_exporter": "python",
   "pygments_lexer": "ipython3",
   "version": "3.11.6"
  }
 },
 "nbformat": 4,
 "nbformat_minor": 5
}
