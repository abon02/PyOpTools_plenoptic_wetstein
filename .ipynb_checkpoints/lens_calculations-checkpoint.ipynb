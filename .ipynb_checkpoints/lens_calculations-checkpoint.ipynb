{
 "cells": [
  {
   "cell_type": "code",
   "execution_count": 4,
   "id": "eb7a1392",
   "metadata": {},
   "outputs": [
    {
     "name": "stdout",
     "output_type": "stream",
     "text": [
      "Image Distance: 5\n",
      "Object Distance: 50\n",
      "focal length: 4.545454545454546\n"
     ]
    }
   ],
   "source": [
    "#calculate focal length using object distance and image distance\n",
    "class Lens_Distance:\n",
    "    def __init__(self, image_distance, object_distance):\n",
    "        self.image_distance = image_distance\n",
    "        self.object_distance = object_distance\n",
    "\n",
    "    @property #focal length using lens formula (1/f = 1/v + 1/u)\n",
    "    def calculate_focal_length(self):\n",
    "        return 1 / ((1/self.image_distance) + (1/self.object_distance))\n",
    "        \n",
    "    def print_values(self):\n",
    "        print('Image Distance:', self.image_distance)\n",
    "        print('Object Distance:', self.object_distance)\n",
    "\n",
    "\n",
    "distance_values = Lens_Distance(5, 50)\n",
    "focal_length = distance_values.calculate_focal_length\n",
    "\n",
    "distance_values.print_values()\n",
    "print('focal length:', focal_length)\n",
    "\n",
    "\n",
    "\n",
    "class sensor_plate:\n",
    "    def __init__(self, pixels):\n",
    "        self.pixels = pixels\n",
    "\n",
    "    def sensor_length(self):\n",
    "        return self.pixels\n",
    "\n",
    "\n",
    "CCD = sensor_plate(50)\n",
    "\n",
    "CCD1 = sensor_plate(40)\n",
    "\n",
    "\n",
    "\n"
   ]
  },
  {
   "cell_type": "code",
   "execution_count": null,
   "id": "207325cd",
   "metadata": {},
   "outputs": [],
   "source": []
  },
  {
   "cell_type": "code",
   "execution_count": null,
   "id": "334fc745",
   "metadata": {},
   "outputs": [],
   "source": []
  }
 ],
 "metadata": {
  "kernelspec": {
   "display_name": "Python 3 (ipykernel)",
   "language": "python",
   "name": "python3"
  },
  "language_info": {
   "codemirror_mode": {
    "name": "ipython",
    "version": 3
   },
   "file_extension": ".py",
   "mimetype": "text/x-python",
   "name": "python",
   "nbconvert_exporter": "python",
   "pygments_lexer": "ipython3",
   "version": "3.11.6"
  }
 },
 "nbformat": 4,
 "nbformat_minor": 5
}
