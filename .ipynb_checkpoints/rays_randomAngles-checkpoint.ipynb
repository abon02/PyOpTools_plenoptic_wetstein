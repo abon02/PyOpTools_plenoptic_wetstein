{
 "cells": [
  {
   "cell_type": "code",
   "execution_count": 12,
   "id": "5f040b35",
   "metadata": {
    "scrolled": false
   },
   "outputs": [
    {
     "data": {
      "application/vnd.jupyter.widget-view+json": {
       "model_id": "a6f8bc0aca1e4c2aa6495cad7d4a6795",
       "version_major": 2,
       "version_minor": 0
      },
      "text/plain": [
       "Renderer(camera=OrthographicCamera(bottom=-300.0, children=(DirectionalLight(intensity=0.7, position=(0.0, 100…"
      ]
     },
     "metadata": {},
     "output_type": "display_data"
    },
    {
     "data": {
      "image/png": "[encoded data removed]",
      "text/plain": [
       "<Figure size 640x480 with 1 Axes>"
      ]
     },
     "metadata": {},
     "output_type": "display_data"
    }
   ],
   "source": [
    "from pyoptools.all import *\n",
    "from math import pi, cos, sin, radians\n",
    "import numpy as np\n",
    "import random\n",
    "\n",
    "lens_radius = 10 #mm\n",
    "L2 = SphericalLens(radius=lens_radius, curvature_s1=1./100., curvature_s2=-1./100, thickness=10, material=material.schott[\"N-BK7\"])\n",
    "C = CCD(size=(10, 10), transparent=False) #detector size, false transparency blocks rays after CCD\n",
    "\n",
    "lens_position = (0, 0, 100)\n",
    "ccd_position = (0, 0, 135) \n",
    "\n",
    "#S=optical system and components and their spatial orientations\n",
    "S = System(complist=[(L2, lens_position, (0, 0, 0)), (C, ccd_position, (0, 0, 0))], n=1)\n",
    "#S=System(complist=[(name,location,rotation), (other components)], refractive index(n))\n",
    "#L1 and CCD have no rotation here, you can add rotation by changing the zeros\n",
    "#n is the refractive index equals to air here\n",
    "\n",
    "R = [] #list to store rays\n",
    "for i in range(-lens_radius, lens_radius): #looping over positions across lens aperture\n",
    "    for r in range(10):  \n",
    "        angle_degrees = random.uniform(-15, 15) #randomly choosing an angle between degrees\n",
    "        angle_radians = radians(angle_degrees)\n",
    "        \n",
    "        dir_x = sin(angle_radians) #calculates direction vector \n",
    "        dir_z = cos(angle_radians)\n",
    "        #y=0 here so rays are directed in the xz plane\n",
    "        \n",
    "        R.append(Ray(pos=(i, 0, 0), dir=(dir_x, 0, dir_z), wavelength=0.450))\n",
    "                    \n",
    "\n",
    "S.ray_add(R) #adds all generated rays to the optical system, S here\n",
    "S.propagate() #propagates rays\n",
    "\n",
    "spot_diagram(C) #displays spot diagram where rays land on CCD\n",
    "Plot3D(S, size=(400, 150), scale=4) #3D view\n",
    "#Plot3D(S, center=(0, 0, 200), size=(400, 150), scale=4, rot=[(0, pi/2, 0), (pi/20, -pi/10, 0)])\n"
   ]
  },
  {
   "cell_type": "code",
   "execution_count": null,
   "id": "034061d2",
   "metadata": {},
   "outputs": [],
   "source": []
  },
  {
   "cell_type": "code",
   "execution_count": null,
   "id": "ce5d16a9",
   "metadata": {},
   "outputs": [],
   "source": []
  },
  {
   "cell_type": "code",
   "execution_count": null,
   "id": "87ff5dff",
   "metadata": {},
   "outputs": [],
   "source": []
  }
 ],
 "metadata": {
  "kernelspec": {
   "display_name": "Python 3 (ipykernel)",
   "language": "python",
   "name": "python3"
  },
  "language_info": {
   "codemirror_mode": {
    "name": "ipython",
    "version": 3
   },
   "file_extension": ".py",
   "mimetype": "text/x-python",
   "name": "python",
   "nbconvert_exporter": "python",
   "pygments_lexer": "ipython3",
   "version": "3.11.6"
  }
 },
 "nbformat": 4,
 "nbformat_minor": 5
}
