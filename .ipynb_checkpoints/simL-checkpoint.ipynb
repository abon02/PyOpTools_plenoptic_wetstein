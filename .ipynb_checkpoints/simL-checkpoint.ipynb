{
 "cells": [
  {
   "cell_type": "code",
   "execution_count": 2,
   "id": "befc1c9e",
   "metadata": {},
   "outputs": [
    {
     "data": {
      "application/vnd.jupyter.widget-view+json": {
       "model_id": "f8cfa1ec3c244a70a3601e13373c5626",
       "version_major": 2,
       "version_minor": 0
      },
      "text/plain": [
       "Renderer(camera=OrthographicCamera(bottom=-300.0, children=(DirectionalLight(intensity=0.7, position=(0.0, 100…"
      ]
     },
     "metadata": {},
     "output_type": "display_data"
    },
    {
     "data": {
      "image/png": "[encoded data removed]",
      "text/plain": [
       "<Figure size 640x480 with 1 Axes>"
      ]
     },
     "metadata": {},
     "output_type": "display_data"
    }
   ],
   "source": [
    "from pyoptools.all import *\n",
    "from math import radians, sin, cos, pi\n",
    "import numpy as np\n",
    "import random\n",
    "\n",
    "\n",
    "lens_radius = 10\n",
    "L2 = SphericalLens(radius=lens_radius, curvature_s1=1./100., curvature_s2=-1./100, thickness=4, material=material.schott[\"N-BK7\"])\n",
    "C = CCD(size=(10, 10), transparent=False)\n",
    "\n",
    "\n",
    "lens_position = (0, 0, 100)\n",
    "ccd_position = (0, 0, 135)\n",
    "\n",
    "\n",
    "S = System(complist=[(L2, lens_position, (0, 0, 0)), (C, ccd_position, (0, 0, 0))], n=1)\n",
    "\n",
    "\n",
    "R = []\n",
    "\n",
    "for y in range(0, lens_radius + 1, 1):\n",
    "    for _ in range(10): \n",
    "        R.append(Ray(pos=(0, y, 0), dir=(0, 0, 1), wavelength=0.450))\n",
    "\n",
    "for x in range(0, lens_radius + 1, 1):\n",
    "    for _ in range(10):  \n",
    "        R.append(Ray(pos=(x, 0, 0), dir=(0, 0, 1), wavelength=0.450))\n",
    "\n",
    "\n",
    "S.ray_add(R)\n",
    "\n",
    "\n",
    "S.propagate()\n",
    "spot_diagram(C)\n",
    "\n",
    "#Plot3D(S, size=(400, 150), scale=4)\n",
    "Plot3D(S, center=(0, 0, 200), size=(400, 150), scale=4, rot=[(0, pi/2, 0), (pi/20, -pi/10, 0)])"
   ]
  },
  {
   "cell_type": "code",
   "execution_count": null,
   "id": "0f90b735",
   "metadata": {},
   "outputs": [],
   "source": []
  },
  {
   "cell_type": "code",
   "execution_count": null,
   "id": "b67447b6",
   "metadata": {},
   "outputs": [],
   "source": []
  }
 ],
 "metadata": {
  "kernelspec": {
   "display_name": "Python 3 (ipykernel)",
   "language": "python",
   "name": "python3"
  },
  "language_info": {
   "codemirror_mode": {
    "name": "ipython",
    "version": 3
   },
   "file_extension": ".py",
   "mimetype": "text/x-python",
   "name": "python",
   "nbconvert_exporter": "python",
   "pygments_lexer": "ipython3",
   "version": "3.11.6"
  }
 },
 "nbformat": 4,
 "nbformat_minor": 5
}
