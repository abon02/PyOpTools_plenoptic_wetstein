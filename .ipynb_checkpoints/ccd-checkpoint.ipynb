{
 "cells": [
  {
   "cell_type": "code",
   "execution_count": 4,
   "id": "6c01dcab",
   "metadata": {},
   "outputs": [
    {
     "data": {
      "application/vnd.jupyter.widget-view+json": {
       "model_id": "4d187baf20c64ff6a69053e106dc8e09",
       "version_major": 2,
       "version_minor": 0
      },
      "text/plain": [
       "Renderer(camera=OrthographicCamera(bottom=-200.0, children=(DirectionalLight(intensity=0.7, position=(0.0, 100…"
      ]
     },
     "metadata": {},
     "output_type": "display_data"
    },
    {
     "data": {
      "image/png": "[encoded data removed]",
      "text/plain": [
       "<Figure size 640x480 with 1 Axes>"
      ]
     },
     "metadata": {},
     "output_type": "display_data"
    }
   ],
   "source": [
    "from pyoptools.all import *\n",
    "from math import pi\n",
    "\n",
    "\n",
    "L2=SphericalLens(radius=25,\n",
    "                 curvature_s1=1./100., #surface1 (convex)\n",
    "                 curvature_s2=-1./100, #surface2 (concave)\n",
    "                 thickness=10, #lens thickness (mm)\n",
    "                 material=material.schott[\"N-BK7\"]) #lens material from Schott catalog (can also use material from other sites)\n",
    "\n",
    "C=CCD() #detector no specific size, to give size: \"CCD = CCD(size=(10, 10))\"\n",
    "\n",
    "L2_location=(0,0,100) #position of lens L2\n",
    "CCD_location=(0,0,215) \n",
    "S=System(complist=[(L2,L2_location,(0,0,0)),(C, CCD_location, (0,0,0))],n=1)\n",
    "#S=optical system and components and their spatial orientations\n",
    "#S=System(complist=[(name,location,rotation), (other components)], refractive index(n))\n",
    "#L1 and CCD have no rotation here, you can add rotation by changing the zeros\n",
    "#n is the refractive index equals to air here\n",
    "\n",
    "R=[] #list to store generated rays\n",
    "for x in range(-25,35,5): \n",
    "    for y in range(-25,35,5):\n",
    "        R.append(Ray(pos=(0,0,0),dir=(x,y,100),wavelength=.650))\n",
    "                    #pos=origin of rays, dir=propagation direction\n",
    "S.ray_add(R) #adds all generated rays to the optical system, S here\n",
    "S.propagate() #propagates rays\n",
    "\n",
    "spot_diagram(C) #displays spot diagram on the CCD\n",
    "Plot3D(S,center=(0,0,100),size=(250,100),scale=4,rot=[(0,pi/2,0),(pi/20,-pi/10,0)])\n",
    "#3D visualization, center view of lens, size of viewing window, zoom scale, rotation view, last is tilt (all parameters not necessary)"
   ]
  },
  {
   "cell_type": "code",
   "execution_count": null,
   "id": "5925c60d",
   "metadata": {},
   "outputs": [],
   "source": []
  }
 ],
 "metadata": {
  "kernelspec": {
   "display_name": "Python 3 (ipykernel)",
   "language": "python",
   "name": "python3"
  },
  "language_info": {
   "codemirror_mode": {
    "name": "ipython",
    "version": 3
   },
   "file_extension": ".py",
   "mimetype": "text/x-python",
   "name": "python",
   "nbconvert_exporter": "python",
   "pygments_lexer": "ipython3",
   "version": "3.11.6"
  }
 },
 "nbformat": 4,
 "nbformat_minor": 5
}
