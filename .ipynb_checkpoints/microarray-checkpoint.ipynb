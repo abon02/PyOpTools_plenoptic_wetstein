{
 "cells": [
  {
   "cell_type": "code",
   "execution_count": 53,
   "id": "62621a95",
   "metadata": {
    "scrolled": false
   },
   "outputs": [
    {
     "data": {
      "application/vnd.jupyter.widget-view+json": {
       "model_id": "ddfd4076216f41c8ac9fffb9e4f8ca65",
       "version_major": 2,
       "version_minor": 0
      },
      "text/plain": [
       "Renderer(camera=OrthographicCamera(bottom=-200.0, children=(DirectionalLight(intensity=0.7, position=(0.0, 100…"
      ]
     },
     "metadata": {},
     "output_type": "display_data"
    },
    {
     "data": {
      "image/png": "[encoded data removed]",
      "text/plain": [
       "<Figure size 640x480 with 1 Axes>"
      ]
     },
     "metadata": {},
     "output_type": "display_data"
    }
   ],
   "source": [
    "from pyoptools.all import *\n",
    "from math import sqrt, pi, radians,cos, sin\n",
    "import random\n",
    "import pandas as pd\n",
    "\n",
    "\n",
    "lens_radius = 25\n",
    "microlens_radius = 2.7\n",
    "microlens_f = 0.2\n",
    "CCD = CCD(size=(30, 30))\n",
    "L1 = SphericalLens(radius=lens_radius, curvature_s1=1./100., curvature_s2=-1./100., thickness=10, material=material.schott[\"N-BK7\"])\n",
    "\n",
    "#microlens = SphericalLens(radius=microlens_radius, curvature_s1=1./100., curvature_s2=-1./100., thickness=1.2, material=material.schott[\"N-BK7\"])\n",
    "MShape = Circular(radius=microlens_radius)\n",
    "microlens = IdealLens(shape=MShape, f=microlens_f)\n",
    "\n",
    "num_xmicrolens = 5\n",
    "num_ymicrolens = 5\n",
    "microlens_pitch = microlens_radius * 2\n",
    "array_z_distance = 95.09\n",
    "CCD_z = 100\n",
    "\n",
    "\n",
    "microlens_locations = []\n",
    "for i in range(num_xmicrolens):\n",
    "    for j in range(num_ymicrolens):\n",
    "        x_pos = i * microlens_pitch \n",
    "        y_pos = j * microlens_pitch\n",
    "        \n",
    "        microlens_location = (x_pos - 10, y_pos - 10, array_z_distance)\n",
    "        microlens_locations.append(microlens_location)\n",
    "\n",
    "\n",
    "lens_location = (0, 0, 0)\n",
    "CCD_location = (0, 0, CCD_z)\n",
    "\n",
    "complist = [(L1, lens_location, (0, 0, 0)), (CCD, CCD_location, (0, 0, 0))]\n",
    "#OA = Ray(pos=(0,0,0), dir=(0,0,1), intensity=100, wavelength=.350)\n",
    "\n",
    "for m in microlens_locations:\n",
    "    complist.append((microlens, m, (0, 0, 0)))\n",
    "    \n",
    "S = System(complist=complist, n=1)\n",
    "    \n",
    "num_ps = 100\n",
    "source_wavelength = 0.550\n",
    "num_rays = 2\n",
    "\n",
    "source_z_distance = -275\n",
    "\n",
    "R = [] \n",
    "for i in range(num_ps):\n",
    "    #print(i)\n",
    "    if i < num_ps // 2:\n",
    "        x = random.uniform(-lens_radius, 0)\n",
    "        y = 0\n",
    "    else:\n",
    "        x = 0\n",
    "        y = random.uniform(-lens_radius, 0)\n",
    "    \n",
    "    pos = (x, y, source_z_distance)\n",
    "    \n",
    "    for j in range(num_rays):\n",
    "\n",
    "        phi = random.uniform(0, 2 * pi)\n",
    "        \n",
    "        theta_deg = random.uniform(0,15)\n",
    "        theta = radians(theta_deg)\n",
    "        \n",
    "        dir_z = cos(theta) \n",
    "        dir_x = sin(theta)*cos(phi)\n",
    "        dir_y = sin(theta)*sin(phi)\n",
    "    \n",
    "        ray = Ray(pos=pos, dir=(dir_x, dir_y, dir_z), wavelength=source_wavelength)\n",
    "        R.append(ray)\n",
    "\n",
    "#f = microlens.paraxial_constants()\n",
    "#print(f)        \n",
    "        \n",
    "S.ray_add(R)\n",
    "#S.ray_add(OA)\n",
    "S.propagate()\n",
    "\n",
    "spot_diagram_c(CCD)\n",
    "Plot3D(S, center=(0, 0, 200), size=(450, 200), scale=2, rot=[(0, -pi/2, 0), (pi/20, -pi/10, 0)])\n"
   ]
  },
  {
   "cell_type": "code",
   "execution_count": null,
   "id": "395f79e3",
   "metadata": {},
   "outputs": [],
   "source": []
  },
  {
   "cell_type": "code",
   "execution_count": null,
   "id": "b2b4d6ce",
   "metadata": {},
   "outputs": [],
   "source": []
  }
 ],
 "metadata": {
  "kernelspec": {
   "display_name": "Python 3 (ipykernel)",
   "language": "python",
   "name": "python3"
  },
  "language_info": {
   "codemirror_mode": {
    "name": "ipython",
    "version": 3
   },
   "file_extension": ".py",
   "mimetype": "text/x-python",
   "name": "python",
   "nbconvert_exporter": "python",
   "pygments_lexer": "ipython3",
   "version": "3.11.6"
  }
 },
 "nbformat": 4,
 "nbformat_minor": 5
}
