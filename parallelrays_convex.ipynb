{
 "cells": [
  {
   "cell_type": "code",
   "execution_count": 1,
   "id": "85ae657f",
   "metadata": {},
   "outputs": [
    {
     "data": {
      "application/vnd.jupyter.widget-view+json": {
       "model_id": "9fa6568070344c1eb580ddfb41d421db",
       "version_major": 2,
       "version_minor": 0
      },
      "text/plain": [
       "Renderer(camera=OrthographicCamera(bottom=-200.0, children=(DirectionalLight(intensity=0.7, position=(0.0, 100…"
      ]
     },
     "metadata": {},
     "output_type": "display_data"
    },
    {
     "data": {
      "image/png": "[encoded data removed]",
      "text/plain": [
       "<Figure size 640x480 with 1 Axes>"
      ]
     },
     "metadata": {},
     "output_type": "display_data"
    }
   ],
   "source": [
    "from pyoptools.all import *\n",
    "from math import sqrt, pi, cos, sin\n",
    "import random\n",
    "\n",
    "\n",
    "lens_radius = 25 #mm\n",
    "L1 = SphericalLens(radius=lens_radius, curvature_s1=1./100., curvature_s2=-1./100., thickness=10, material=material.schott[\"N-BK7\"])\n",
    "CCD = CCD(size=(10, 10))\n",
    "\n",
    "lens_location = (0, 0, 150)\n",
    "CCD_location = (0, 0, 300)\n",
    "\n",
    "#S=optical system and components and their spatial orientations\n",
    "S = System(complist=[(L1, lens_location, (0, 0, 0)), (CCD, CCD_location, (0, 0, 0))], n=1)\n",
    "#S=System(complist=[(name,location,rotation), (other components)], refractive index(n))\n",
    "#L1 and CCD have no rotation here, you can add rotation by changing the zeros\n",
    "#n is the refractive index equals to air here\n",
    "\n",
    "num_point_sources = 100 #simulated point sources\n",
    "source_wavelength = 0.550\n",
    "num_rays = 2 #rays emitted per point source\n",
    "\n",
    "source_z_distance = 100 #z position of source plane\n",
    "\n",
    "\n",
    "R = [] #list to store generated rays\n",
    "for i in range(num_point_sources):\n",
    "    if i < num_point_sources // 2:\n",
    "        x = random.uniform(-lens_radius, 0)\n",
    "        y = 0\n",
    "    else:\n",
    "        x = 0\n",
    "        y = random.uniform(-lens_radius, 0)\n",
    "    \n",
    "    pos = (x, y, source_z_distance)\n",
    "    \n",
    "    for j in range(num_rays):\n",
    "        theta = random.uniform(0, 2 * pi)\n",
    "\n",
    "        r = random.uniform(0, lens_radius)\n",
    "        x = r * cos(theta)\n",
    "        y = r * sin(theta)\n",
    "    \n",
    "        pos = (x, y, source_z_distance)\n",
    "  \n",
    "        dirx = 0\n",
    "        diry = 0\n",
    "        dirz = 1 #all along z\n",
    "    \n",
    "    ray = Ray(pos=pos, dir=(dirx, diry, dirz), wavelength=source_wavelength)\n",
    "    R.append(ray)\n",
    "\n",
    "\n",
    "S.ray_add(R)\n",
    "S.propagate()\n",
    "\n",
    "\n",
    "spot_diagram(CCD)\n",
    "Plot3D(S, center=(0, 0, 200), size=(450, 200), scale=2, rot=[(0, -pi/2, 0), (pi/20, -pi/10, 0)])\n"
   ]
  },
  {
   "cell_type": "code",
   "execution_count": null,
   "id": "80fcc6b7",
   "metadata": {},
   "outputs": [],
   "source": []
  }
 ],
 "metadata": {
  "kernelspec": {
   "display_name": "Python 3 (ipykernel)",
   "language": "python",
   "name": "python3"
  },
  "language_info": {
   "codemirror_mode": {
    "name": "ipython",
    "version": 3
   },
   "file_extension": ".py",
   "mimetype": "text/x-python",
   "name": "python",
   "nbconvert_exporter": "python",
   "pygments_lexer": "ipython3",
   "version": "3.11.6"
  }
 },
 "nbformat": 4,
 "nbformat_minor": 5
}
